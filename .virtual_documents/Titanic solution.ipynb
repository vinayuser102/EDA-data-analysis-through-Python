import pandas as pd 






pd.read


pip intall jupyter_contrib_nbextensions



pip install jupyter_contrib_nbextensions
jupyter contrib nbextension install --user
jupyter nbextension enable hinterland/hinterland


# Assistant
This error occurs because you're trying to run pip install commands directly in a Jupyter notebook code cell. These are shell commands, not Python code. To execute these commands, you have two options:

1. Use the magic command `!` before each line in the Jupyter notebook
2. Run these commands in your terminal/command prompt instead

Would you like me to provide the corrected code for running these commands within Jupyter notebook?


yes



!pip install jupyter_contrib_nbextensions
!jupyter contrib nbextension install --user
!jupyter nbextension enable hinterland/hinterland




